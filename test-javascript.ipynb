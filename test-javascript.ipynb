{
 "cells": [
  {
   "cell_type": "code",
   "execution_count": null,
   "metadata": {},
   "outputs": [],
   "source": [
    "console.log('Hello, World!');"
   ]
  },
  {
   "attachments": {},
   "cell_type": "markdown",
   "metadata": {},
   "source": [
    "# Esempio di scope lessicale"
   ]
  },
  {
   "cell_type": "code",
   "execution_count": null,
   "metadata": {},
   "outputs": [],
   "source": [
    "{ //creo scope lessicale\n",
    "    let age = 30;\n",
    "    let age1 = age;\n",
    "    age = 31;\n",
    "    console.log(age);\n",
    "    console.log(age1);\n",
    "\n",
    "    let immutable = \"hello\";\n",
    "    let copy = immutable.slice(0, 4); //slice prende una parte della stringa, è immutabile infatti si crea una copia\n",
    "    console.log(immutable);\n",
    "    console.log(copy);\n",
    "\n",
    "    \n",
    "}"
   ]
  },
  {
   "cell_type": "code",
   "execution_count": null,
   "metadata": {},
   "outputs": [],
   "source": [
    "typeof 1.23;\n",
    "typeof \"hello\";\n",
    "typeof true;\n",
    "typeof []; //array vuoto\n",
    "typeof {}; //oggetto letterale"
   ]
  },
  {
   "cell_type": "code",
   "execution_count": null,
   "metadata": {},
   "outputs": [],
   "source": [
    "{\n",
    "    let mutable = [1, 2, 3];\n",
    "    let mutableCopy = mutable;\n",
    "    mutableCopy.push(4);\n",
    "    console.log(mutable);\n",
    "    console.log(mutableCopy);\n",
    "    mutable.sort((a, b) => b - a);\n",
    "    console.log(mutable); // [4, 3, 2, 1]\n",
    "    console.log(mutableCopy); // [4, 3, 2, 1]\n",
    "    \n",
    "}"
   ]
  },
  {
   "cell_type": "code",
   "execution_count": 7,
   "metadata": {},
   "outputs": [
    {
     "name": "stdout",
     "output_type": "stream",
     "text": [
      "0.30000000000000004\n",
      "false\n"
     ]
    }
   ],
   "source": [
    "{\n",
    "    console.log(0.1 + 0.2);\n",
    "    console.log(0.1 + 0.2 === 0.3);\n",
    "}"
   ]
  },
  {
   "attachments": {},
   "cell_type": "markdown",
   "metadata": {},
   "source": [
    "## array"
   ]
  },
  {
   "cell_type": "code",
   "execution_count": 11,
   "metadata": {},
   "outputs": [
    {
     "name": "stdout",
     "output_type": "stream",
     "text": [
      "5\n",
      "6\n",
      "[ 1, 2, 3, 4, 5, 6 ]\n",
      "6\n",
      "[ 1, 2, 3, 4, 5 ]\n",
      "[ 1, 4, 9, 16, 25 ]\n",
      "[ 2, 4 ]\n",
      "15\n"
     ]
    }
   ],
   "source": [
    "{\n",
    "    let arr = [1, 2, 3, 4, 5];\n",
    "\n",
    "    //lenght\n",
    "    console.log(arr.length); // Output: 5\n",
    "    \n",
    "    //push\n",
    "    let arrLength = arr.push(6);\n",
    "    console.log(arrLength); // Output: 6\n",
    "    console.log(arr); // Output: [1, 2, 3, 4, 5, 6]\n",
    "    \n",
    "    //pop\n",
    "    let lastElement = arr.pop();\n",
    "    console.log(lastElement); // Output: 6\n",
    "    console.log(arr); // Output: [1, 2, 3, 4, 5]\n",
    "    \n",
    "    //map\n",
    "    let squares = arr.map(x => x * x);\n",
    "    console.log(squares); // Output: [1, 4, 9, 16, 25]\n",
    "\n",
    "    //filter\n",
    "    let evenNumbers = arr.filter(x => x % 2 === 0);\n",
    "    console.log(evenNumbers); // Output: [2, 4]\n",
    "\n",
    "    //reduce\n",
    "    let numbers = [1, 2, 3, 4, 5];\n",
    "    // Usare reduce per sommare tutti gli elementi dell'array\n",
    "    let sum = numbers.reduce((accumulator, currentValue) => accumulator + currentValue, 0);\n",
    "    console.log(sum); // Output: 15\n",
    "}"
   ]
  },
  {
   "cell_type": "code",
   "execution_count": 4,
   "metadata": {},
   "outputs": [
    {
     "name": "stdout",
     "output_type": "stream",
     "text": [
      "11\n",
      "true\n",
      "false\n"
     ]
    }
   ],
   "source": [
    "\n",
    "//somma di stringhe\n",
    "console.log(\"1\" + \"1\");\n",
    "//type coercion con il doppio uguale\n",
    "console.log(1 == \"1\");\n",
    "//triplo uguale non converte\n",
    "console.log(1 === \"1\");\n",
    "\n"
   ]
  },
  {
   "cell_type": "code",
   "execution_count": 6,
   "metadata": {},
   "outputs": [
    {
     "name": "stdout",
     "output_type": "stream",
     "text": [
      "9\n"
     ]
    }
   ],
   "source": [
    "let y;\n",
    "let x = y || 1; //se y ha un valore x = y, altrimenti x = 1\n",
    "console.log(x);"
   ]
  },
  {
   "cell_type": "code",
   "execution_count": 10,
   "metadata": {},
   "outputs": [
    {
     "name": "stdout",
     "output_type": "stream",
     "text": [
      "HELLO WORLD!\n",
      "FDVA\n"
     ]
    }
   ],
   "source": [
    "//boxing e unboxing\n",
    "let myString = \"Hello world!\";\n",
    "console.log(myString.toUpperCase());\n",
    "\n",
    "// Dietro le quinte, JavaScript fa qualcosa di simile a:\n",
    "console.log(new String(myString).toUpperCase());"
   ]
  },
  {
   "cell_type": "markdown",
   "metadata": {},
   "source": [
    "# Aggiungere elemento al DOM"
   ]
  },
  {
   "cell_type": "code",
   "execution_count": null,
   "metadata": {},
   "outputs": [],
   "source": [
    "let paragrafo = document.createElement('p');\n",
    "paragrafo.appendChild(document.createTextNode('Hello'));\n",
    "document.body.appendChild(paragrafo);"
   ]
  },
  {
   "attachments": {},
   "cell_type": "markdown",
   "metadata": {},
   "source": [
    "# Funzioni\n",
    "\n",
    "le funzioni in js sono oggetti di prima classe (che possono essere passati come argomenti, assegnate come variabili e restituite da altre funzioni)\n",
    "\n",
    "esistono 2 modi per definire una funzione:\n",
    "\n",
    "- dichiarazione/istruzione di funzione, cioè azione che verrà fatta attraverso il linguaggio e ha effetti sull'esecuzione\n",
    "- espressione di funzione, cioè vengono calcolate e utilizzato il risultato\n",
    "\n",
    "## Dichiarazione di funzione\n",
    "\n",
    "```javascript\n",
    "function nomeFunzione(parametro1, parametro2) {\n",
    "    //corpo della funzione\n",
    "    return valoreDiRitorno;\n",
    "}\n",
    "```\n",
    "\n",
    "## Espressione di funzione\n",
    "\n",
    "```javascript\n",
    "const nomeFunzione = function(parametro1, parametro2) {\n",
    "    //corpo della funzione\n",
    "    return valoreDiRitorno;\n",
    "}\n",
    "```\n",
    "\n",
    "## arrow function\n",
    "\n",
    "```javascript\n",
    "const nomeFunzione = (parametro1, parametro2) => {\n",
    "    //corpo della funzione\n",
    "    return espressioneDiRitorno;\n",
    "}\n",
    "\n",
    "//oppure\n",
    "const nomeFunzione = parametro => espressioneDiRitorno;\n",
    "```"
   ]
  },
  {
   "cell_type": "code",
   "execution_count": 13,
   "metadata": {},
   "outputs": [
    {
     "data": {
      "text/plain": [
       "\u001b[33m3\u001b[39m"
      ]
     },
     "execution_count": 13,
     "metadata": {},
     "output_type": "execute_result"
    }
   ],
   "source": [
    "//dichiarazione di funzione, istruzione\n",
    "function add(a: number, b: number): number {\n",
    "    return a + b;\n",
    "}\n",
    "\n",
    "add(1, 2);\n",
    "\n",
    "//espressione di funzione\n",
    "const add1 = function(a: number, b: number) {\n",
    "    return a + b;\n",
    "}\n",
    "\n",
    "add(1, 2);\n",
    "\n",
    "//arrow function\n",
    "const add2 = (a: number, b: number): number => {\n",
    "    return a + b;\n",
    "}\n",
    "\n",
    "add2(1, 2);\n",
    "\n",
    "//oppure\n",
    "const add3 = (a: number, b: number): number => a + b;\n",
    "\n",
    "add3(1, 2);\n",
    "\n",
    "//oppure\n",
    "const doppio = (x) => { return x * 2 };"
   ]
  },
  {
   "attachments": {},
   "cell_type": "markdown",
   "metadata": {},
   "source": [
    "## Closure\n",
    "\n",
    "Una closure è una funzione che cattura le variabili dall'ambiente circostanze in cui è stata creata\n",
    "\n",
    "```javascript\n",
    "function creaContatore() {\n",
    "    let contatore = 0;\n",
    "    return function() {\n",
    "        return contatore++;\n",
    "    };\n",
    "}\n",
    "```"
   ]
  },
  {
   "cell_type": "code",
   "execution_count": 10,
   "metadata": {},
   "outputs": [
    {
     "name": "stdout",
     "output_type": "stream",
     "text": [
      "0\n",
      "1\n",
      "0\n",
      "0\n",
      "1\n",
      "2\n",
      "\n",
      "\n",
      "0\n",
      "0\n"
     ]
    }
   ],
   "source": [
    "{\n",
    "    function creaContatore() {\n",
    "        let contatore = 0;\n",
    "        return function() {\n",
    "            return contatore++;\n",
    "        };\n",
    "    }\n",
    "    \n",
    "    //si possono creare più contatori\n",
    "    const contatore = creaContatore();\n",
    "    const contatore1 = creaContatore();\n",
    "    const contatore2 = creaContatore();\n",
    "\n",
    "    console.log(contatore()); //0\n",
    "    console.log(contatore()); //1\n",
    "    console.log(contatore1()); //0\n",
    "    console.log(contatore2()); //0\n",
    "    console.log(contatore1()); //1\n",
    "    console.log(contatore()); // 2\n",
    "}\n",
    "\n",
    "console.log(\"\\n\");\n",
    "\n",
    "\n",
    "{\n",
    "    //in questo modo non funziona perché crea la variabile ogni volta\n",
    "    function creaContatore1() {\n",
    "        return function () {\n",
    "            let contatore = 0;\n",
    "            return contatore++;\n",
    "        };\n",
    "    }\n",
    "\n",
    "    const contatore1 = creaContatore1();\n",
    "\n",
    "    console.log(contatore1()); //0\n",
    "    console.log(contatore1()); //0\n",
    "    console.log(contatore1()); //0\n",
    "}"
   ]
  },
  {
   "attachments": {},
   "cell_type": "markdown",
   "metadata": {},
   "source": [
    "# Oggetti in javascript\n",
    "\n",
    "Gli oggetti in javascript sono collezioni di coppie chiave-valore\n",
    "\n",
    "```javascript\n",
    "const oggetto = {\n",
    "    <chiave> : <valore1>,\n",
    "    ......\n",
    "    <chiaveN> : <valoreN>\n",
    "};\n",
    "```\n",
    "\n",
    "## Accesso ai valori\n",
    "\n",
    "```javascript\n",
    "console.log(oggetto.chiave1);\n",
    "console.log(oggetto['chiave1']);\n",
    "```"
   ]
  }
 ],
 "metadata": {
  "kernelspec": {
   "display_name": "Deno",
   "language": "typescript",
   "name": "deno"
  },
  "language_info": {
   "file_extension": ".ts",
   "mimetype": "text/x.typescript",
   "name": "typescript",
   "nb_converter": "script",
   "pygments_lexer": "typescript",
   "version": "5.3.3"
  }
 },
 "nbformat": 4,
 "nbformat_minor": 4
}
